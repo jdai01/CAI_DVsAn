{
 "cells": [
  {
   "cell_type": "markdown",
   "metadata": {},
   "source": [
    "# Data Visualisation and Analytics\n",
    "\n",
    "## Assignment 2: Using an API and Visualising Your Data"
   ]
  },
  {
   "cell_type": "code",
   "execution_count": 1,
   "metadata": {},
   "outputs": [],
   "source": [
    "# Imports\n",
    "import requests\n",
    "import pandas as pd\n",
    "import openpyxl\n",
    "import altair as alt"
   ]
  },
  {
   "cell_type": "code",
   "execution_count": 2,
   "metadata": {},
   "outputs": [],
   "source": [
    "# Default filepaths\n",
    "DATA_XLSX = \"data.xlsx\""
   ]
  },
  {
   "cell_type": "markdown",
   "metadata": {},
   "source": [
    "### Download and Read Dataset"
   ]
  },
  {
   "cell_type": "code",
   "execution_count": null,
   "metadata": {},
   "outputs": [],
   "source": [
    "# Dataset: Gender Datenreport Berlin 2022 - Schul- und Berufsbildung\n",
    "# Source: https://daten.berlin.de/datensaetze/gender-datenreport-berlin-2022-schul-und-berufsbildung-1505506\n",
    "# Last accessed 25.11.2024\n",
    "\n",
    "url = \"https://www.berlin.de/sen/frauen/gleichstellung/gender-daten/daten/2022_2_1_schule-berufsbildung_20241028_opendata.xlsx\""
   ]
  },
  {
   "cell_type": "code",
   "execution_count": 4,
   "metadata": {},
   "outputs": [
    {
     "name": "stdout",
     "output_type": "stream",
     "text": [
      "File downloaded and saved as data.xlsx\n"
     ]
    }
   ],
   "source": [
    "# Download file\n",
    "response = requests.get(url)\n",
    "\n",
    "if response.status_code == 200:\n",
    "    with open(DATA_XLSX, \"wb\") as f:\n",
    "        f.write(response.content)\n",
    "    print(f\"File downloaded and saved as {DATA_XLSX}\")\n",
    "else:\n",
    "    print(f\"Fail to download file. HTTP Status Code: {response.status_code}\")"
   ]
  },
  {
   "cell_type": "code",
   "execution_count": 5,
   "metadata": {},
   "outputs": [],
   "source": [
    "# Function to get specific dataset in the excel file\n",
    "def get_data(sheet_name: str, xls_file=DATA_XLSX):\n",
    "    try:\n",
    "        df = pd.read_excel(DATA_XLSX, sheet_name=sheet_name, skiprows=1)\n",
    "        print(df.head())\n",
    "    except ValueError as e:\n",
    "        print(f\"Error: {e}.\")\n",
    "\n",
    "        print(\"Available sheets are:\")\n",
    "        with pd.ExcelFile(DATA_XLSX) as xls:\n",
    "            for i, sheet_name in enumerate(xls.sheet_names):\n",
    "                print(f\"{i:2d}. {sheet_name}\")\n",
    "    \n",
    "    return df"
   ]
  },
  {
   "cell_type": "markdown",
   "metadata": {},
   "source": [
    "### Select relavent dataset of interest (1)\n",
    "- 4 Höchster beruflicher Bildungsabschluss der Berlinerinnen und Berliner im Alter von 25 bis unter 65 Jahren von 2010 bis 2022(2) (Quelle: Mikrozensus)  \n",
    "    (Translation) Highest vocational qualification of Berliners aged 25 to under 65 from 2010 to 2022"
   ]
  },
  {
   "cell_type": "markdown",
   "metadata": {},
   "source": [
    "**Analysis Question 1:**  \n",
    "From 2010 to 2022, is there a general increase in the numbers of Berliners with a Bachelor qualification?"
   ]
  },
  {
   "cell_type": "code",
   "execution_count": 6,
   "metadata": {},
   "outputs": [
    {
     "name": "stdout",
     "output_type": "stream",
     "text": [
      "   Jahr(3) Geschlecht  Lehre/Berufs-ausbildung  Fachschul-abschluss  Bachelor  \\\n",
      "0     2010     Frauen                   415800                75300     17100   \n",
      "1     2010     Männer                   439700                51800     16800   \n",
      "2     2011     Frauen                   399100                84900     19400   \n",
      "3     2011     Männer                   416900                56100     18000   \n",
      "4     2012     Frauen                   400600                79100     19700   \n",
      "\n",
      "   Master  Diplom  Promotion  Ohne beruflichen Bildungsabschluss  \n",
      "0   10300  224300      17400                              205200  \n",
      "1   10900  225700      27300                              218200  \n",
      "2   16700  221000      15100                              184700  \n",
      "3   11900  221000      25900                              196600  \n",
      "4   17300  241700      16300                              184300  \n"
     ]
    }
   ],
   "source": [
    "df = get_data(\"Tab4\")"
   ]
  },
  {
   "cell_type": "code",
   "execution_count": null,
   "metadata": {},
   "outputs": [
    {
     "data": {
      "text/html": [
       "\n",
       "<style>\n",
       "  #altair-viz-8076795fd7dd4e088dcb19752f66b759.vega-embed {\n",
       "    width: 100%;\n",
       "    display: flex;\n",
       "  }\n",
       "\n",
       "  #altair-viz-8076795fd7dd4e088dcb19752f66b759.vega-embed details,\n",
       "  #altair-viz-8076795fd7dd4e088dcb19752f66b759.vega-embed details summary {\n",
       "    position: relative;\n",
       "  }\n",
       "</style>\n",
       "<div id=\"altair-viz-8076795fd7dd4e088dcb19752f66b759\"></div>\n",
       "<script type=\"text/javascript\">\n",
       "  var VEGA_DEBUG = (typeof VEGA_DEBUG == \"undefined\") ? {} : VEGA_DEBUG;\n",
       "  (function(spec, embedOpt){\n",
       "    let outputDiv = document.currentScript.previousElementSibling;\n",
       "    if (outputDiv.id !== \"altair-viz-8076795fd7dd4e088dcb19752f66b759\") {\n",
       "      outputDiv = document.getElementById(\"altair-viz-8076795fd7dd4e088dcb19752f66b759\");\n",
       "    }\n",
       "    const paths = {\n",
       "      \"vega\": \"https://cdn.jsdelivr.net/npm/vega@5?noext\",\n",
       "      \"vega-lib\": \"https://cdn.jsdelivr.net/npm/vega-lib?noext\",\n",
       "      \"vega-lite\": \"https://cdn.jsdelivr.net/npm/vega-lite@5.20.1?noext\",\n",
       "      \"vega-embed\": \"https://cdn.jsdelivr.net/npm/vega-embed@6?noext\",\n",
       "    };\n",
       "\n",
       "    function maybeLoadScript(lib, version) {\n",
       "      var key = `${lib.replace(\"-\", \"\")}_version`;\n",
       "      return (VEGA_DEBUG[key] == version) ?\n",
       "        Promise.resolve(paths[lib]) :\n",
       "        new Promise(function(resolve, reject) {\n",
       "          var s = document.createElement('script');\n",
       "          document.getElementsByTagName(\"head\")[0].appendChild(s);\n",
       "          s.async = true;\n",
       "          s.onload = () => {\n",
       "            VEGA_DEBUG[key] = version;\n",
       "            return resolve(paths[lib]);\n",
       "          };\n",
       "          s.onerror = () => reject(`Error loading script: ${paths[lib]}`);\n",
       "          s.src = paths[lib];\n",
       "        });\n",
       "    }\n",
       "\n",
       "    function showError(err) {\n",
       "      outputDiv.innerHTML = `<div class=\"error\" style=\"color:red;\">${err}</div>`;\n",
       "      throw err;\n",
       "    }\n",
       "\n",
       "    function displayChart(vegaEmbed) {\n",
       "      vegaEmbed(outputDiv, spec, embedOpt)\n",
       "        .catch(err => showError(`Javascript Error: ${err.message}<br>This usually means there's a typo in your chart specification. See the javascript console for the full traceback.`));\n",
       "    }\n",
       "\n",
       "    if(typeof define === \"function\" && define.amd) {\n",
       "      requirejs.config({paths});\n",
       "      require([\"vega-embed\"], displayChart, err => showError(`Error loading script: ${err.message}`));\n",
       "    } else {\n",
       "      maybeLoadScript(\"vega\", \"5\")\n",
       "        .then(() => maybeLoadScript(\"vega-lite\", \"5.20.1\"))\n",
       "        .then(() => maybeLoadScript(\"vega-embed\", \"6\"))\n",
       "        .catch(showError)\n",
       "        .then(() => displayChart(vegaEmbed));\n",
       "    }\n",
       "  })({\"config\": {\"view\": {\"continuousWidth\": 300, \"continuousHeight\": 300}}, \"data\": {\"name\": \"data-3f6c2ac55f3a47c3b71c71b34bd43077\"}, \"facet\": {\"column\": {\"field\": \"Geschlecht\", \"type\": \"nominal\"}}, \"spec\": {\"mark\": {\"type\": \"bar\"}, \"encoding\": {\"color\": {\"field\": \"Geschlecht\", \"type\": \"nominal\"}, \"tooltip\": [{\"field\": \"Jahr(3)\", \"type\": \"quantitative\"}, {\"field\": \"Geschlecht\", \"type\": \"nominal\"}, {\"field\": \"Bachelor\", \"type\": \"quantitative\"}], \"x\": {\"field\": \"Jahr(3)\", \"type\": \"ordinal\"}, \"y\": {\"field\": \"Bachelor\", \"type\": \"quantitative\"}}, \"title\": \"Number of Berliners with Bachelor qualification\"}, \"$schema\": \"https://vega.github.io/schema/vega-lite/v5.20.1.json\", \"datasets\": {\"data-3f6c2ac55f3a47c3b71c71b34bd43077\": [{\"Jahr(3)\": 2010, \"Geschlecht\": \"Frauen\", \"Lehre/Berufs-ausbildung\": 415800, \"Fachschul-abschluss\": 75300, \"Bachelor\": 17100, \"Master\": 10300, \"Diplom\": 224300, \"Promotion\": 17400, \"Ohne beruflichen Bildungsabschluss\": 205200}, {\"Jahr(3)\": 2010, \"Geschlecht\": \"M\\u00e4nner\", \"Lehre/Berufs-ausbildung\": 439700, \"Fachschul-abschluss\": 51800, \"Bachelor\": 16800, \"Master\": 10900, \"Diplom\": 225700, \"Promotion\": 27300, \"Ohne beruflichen Bildungsabschluss\": 218200}, {\"Jahr(3)\": 2011, \"Geschlecht\": \"Frauen\", \"Lehre/Berufs-ausbildung\": 399100, \"Fachschul-abschluss\": 84900, \"Bachelor\": 19400, \"Master\": 16700, \"Diplom\": 221000, \"Promotion\": 15100, \"Ohne beruflichen Bildungsabschluss\": 184700}, {\"Jahr(3)\": 2011, \"Geschlecht\": \"M\\u00e4nner\", \"Lehre/Berufs-ausbildung\": 416900, \"Fachschul-abschluss\": 56100, \"Bachelor\": 18000, \"Master\": 11900, \"Diplom\": 221000, \"Promotion\": 25900, \"Ohne beruflichen Bildungsabschluss\": 196600}, {\"Jahr(3)\": 2012, \"Geschlecht\": \"Frauen\", \"Lehre/Berufs-ausbildung\": 400600, \"Fachschul-abschluss\": 79100, \"Bachelor\": 19700, \"Master\": 17300, \"Diplom\": 241700, \"Promotion\": 16300, \"Ohne beruflichen Bildungsabschluss\": 184300}, {\"Jahr(3)\": 2012, \"Geschlecht\": \"M\\u00e4nner\", \"Lehre/Berufs-ausbildung\": 419000, \"Fachschul-abschluss\": 51200, \"Bachelor\": 18600, \"Master\": 15400, \"Diplom\": 228300, \"Promotion\": 24700, \"Ohne beruflichen Bildungsabschluss\": 201800}, {\"Jahr(3)\": 2013, \"Geschlecht\": \"Frauen\", \"Lehre/Berufs-ausbildung\": 401900, \"Fachschul-abschluss\": 76200, \"Bachelor\": 24200, \"Master\": 20500, \"Diplom\": 234800, \"Promotion\": 16300, \"Ohne beruflichen Bildungsabschluss\": 196600}, {\"Jahr(3)\": 2013, \"Geschlecht\": \"M\\u00e4nner\", \"Lehre/Berufs-ausbildung\": 423800, \"Fachschul-abschluss\": 51700, \"Bachelor\": 23100, \"Master\": 19200, \"Diplom\": 226700, \"Promotion\": 24100, \"Ohne beruflichen Bildungsabschluss\": 208200}, {\"Jahr(3)\": 2014, \"Geschlecht\": \"Frauen\", \"Lehre/Berufs-ausbildung\": 408100, \"Fachschul-abschluss\": 82000, \"Bachelor\": 36300, \"Master\": 25500, \"Diplom\": 237000, \"Promotion\": 19500, \"Ohne beruflichen Bildungsabschluss\": 188500}, {\"Jahr(3)\": 2014, \"Geschlecht\": \"M\\u00e4nner\", \"Lehre/Berufs-ausbildung\": 432300, \"Fachschul-abschluss\": 51000, \"Bachelor\": 29800, \"Master\": 28000, \"Diplom\": 222100, \"Promotion\": 24300, \"Ohne beruflichen Bildungsabschluss\": 217500}, {\"Jahr(3)\": 2015, \"Geschlecht\": \"Frauen\", \"Lehre/Berufs-ausbildung\": 390100, \"Fachschul-abschluss\": 90300, \"Bachelor\": 40800, \"Master\": 33700, \"Diplom\": 229900, \"Promotion\": 18700, \"Ohne beruflichen Bildungsabschluss\": 189700}, {\"Jahr(3)\": 2015, \"Geschlecht\": \"M\\u00e4nner\", \"Lehre/Berufs-ausbildung\": 432400, \"Fachschul-abschluss\": 51400, \"Bachelor\": 36500, \"Master\": 34100, \"Diplom\": 218200, \"Promotion\": 23600, \"Ohne beruflichen Bildungsabschluss\": 216400}, {\"Jahr(3)\": 2016, \"Geschlecht\": \"Frauen\", \"Lehre/Berufs-ausbildung\": 389800, \"Fachschul-abschluss\": 89600, \"Bachelor\": 49100, \"Master\": 41100, \"Diplom\": 249600, \"Promotion\": 20800, \"Ohne beruflichen Bildungsabschluss\": 188500}, {\"Jahr(3)\": 2016, \"Geschlecht\": \"M\\u00e4nner\", \"Lehre/Berufs-ausbildung\": 419200, \"Fachschul-abschluss\": 48300, \"Bachelor\": 49700, \"Master\": 42800, \"Diplom\": 233900, \"Promotion\": 27100, \"Ohne beruflichen Bildungsabschluss\": 209500}, {\"Jahr(3)\": 2017, \"Geschlecht\": \"Frauen\", \"Lehre/Berufs-ausbildung\": 377100, \"Fachschul-abschluss\": 87000, \"Bachelor\": 57400, \"Master\": 52600, \"Diplom\": 255400, \"Promotion\": 20700, \"Ohne beruflichen Bildungsabschluss\": 182800}, {\"Jahr(3)\": 2017, \"Geschlecht\": \"M\\u00e4nner\", \"Lehre/Berufs-ausbildung\": 412700, \"Fachschul-abschluss\": 49800, \"Bachelor\": 52900, \"Master\": 53400, \"Diplom\": 236100, \"Promotion\": 27600, \"Ohne beruflichen Bildungsabschluss\": 211900}, {\"Jahr(3)\": 2018, \"Geschlecht\": \"Frauen\", \"Lehre/Berufs-ausbildung\": 371100, \"Fachschul-abschluss\": 85300, \"Bachelor\": 61600, \"Master\": 61300, \"Diplom\": 256400, \"Promotion\": 22700, \"Ohne beruflichen Bildungsabschluss\": 178900}, {\"Jahr(3)\": 2018, \"Geschlecht\": \"M\\u00e4nner\", \"Lehre/Berufs-ausbildung\": 408600, \"Fachschul-abschluss\": 45900, \"Bachelor\": 60400, \"Master\": 62400, \"Diplom\": 243300, \"Promotion\": 28900, \"Ohne beruflichen Bildungsabschluss\": 214000}, {\"Jahr(3)\": 2019, \"Geschlecht\": \"Frauen\", \"Lehre/Berufs-ausbildung\": 365600, \"Fachschul-abschluss\": 86100, \"Bachelor\": 77100, \"Master\": 70300, \"Diplom\": 257600, \"Promotion\": 23400, \"Ohne beruflichen Bildungsabschluss\": 170500}, {\"Jahr(3)\": 2019, \"Geschlecht\": \"M\\u00e4nner\", \"Lehre/Berufs-ausbildung\": 397500, \"Fachschul-abschluss\": 47400, \"Bachelor\": 63200, \"Master\": 71000, \"Diplom\": 235100, \"Promotion\": 27500, \"Ohne beruflichen Bildungsabschluss\": 206100}, {\"Jahr(3)\": 2020, \"Geschlecht\": \"Frauen\", \"Lehre/Berufs-ausbildung\": 345100, \"Fachschul-abschluss\": 92100, \"Bachelor\": 75500, \"Master\": 81100, \"Diplom\": 228800, \"Promotion\": 29000, \"Ohne beruflichen Bildungsabschluss\": 177600}, {\"Jahr(3)\": 2020, \"Geschlecht\": \"M\\u00e4nner\", \"Lehre/Berufs-ausbildung\": 374300, \"Fachschul-abschluss\": 56900, \"Bachelor\": 79700, \"Master\": 72200, \"Diplom\": 210200, \"Promotion\": 37500, \"Ohne beruflichen Bildungsabschluss\": 220800}, {\"Jahr(3)\": 2021, \"Geschlecht\": \"Frauen\", \"Lehre/Berufs-ausbildung\": 303300, \"Fachschul-abschluss\": 110900, \"Bachelor\": 91300, \"Master\": 105500, \"Diplom\": 210500, \"Promotion\": 27600, \"Ohne beruflichen Bildungsabschluss\": 184100}, {\"Jahr(3)\": 2021, \"Geschlecht\": \"M\\u00e4nner\", \"Lehre/Berufs-ausbildung\": 325500, \"Fachschul-abschluss\": 72700, \"Bachelor\": 96100, \"Master\": 93600, \"Diplom\": 193600, \"Promotion\": 36400, \"Ohne beruflichen Bildungsabschluss\": 228000}, {\"Jahr(3)\": 2022, \"Geschlecht\": \"Frauen\", \"Lehre/Berufs-ausbildung\": 296000, \"Fachschul-abschluss\": 107000, \"Bachelor\": 103000, \"Master\": 111000, \"Diplom\": 208000, \"Promotion\": 34000, \"Ohne beruflichen Bildungsabschluss\": 192000}, {\"Jahr(3)\": 2022, \"Geschlecht\": \"M\\u00e4nner\", \"Lehre/Berufs-ausbildung\": 316000, \"Fachschul-abschluss\": 69000, \"Bachelor\": 104000, \"Master\": 102000, \"Diplom\": 192000, \"Promotion\": 40000, \"Ohne beruflichen Bildungsabschluss\": 234000}]}}, {\"mode\": \"vega-lite\"});\n",
       "</script>"
      ],
      "text/plain": [
       "alt.FacetChart(...)"
      ]
     },
     "metadata": {},
     "output_type": "display_data"
    }
   ],
   "source": [
    "chart = alt.Chart(df).mark_bar().encode(\n",
    "    x=\"Jahr(3):O\",              # Year on x-axis (Ordinal)\n",
    "    y=\"Bachelor:Q\",             # Number of Bachelor degrees on y-axis (Quantitative)\n",
    "    color=\"Geschlecht:N\",       # Color by gender (Nominal)\n",
    "    tooltip=['Jahr(3)', 'Geschlecht', 'Bachelor'],\n",
    ").properties(\n",
    "    title=\"Number of Berliners with Bachelor qualification\"\n",
    ").facet(\n",
    "    column=\"Geschlecht:N\"\n",
    ")\n",
    "chart.show()"
   ]
  },
  {
   "cell_type": "markdown",
   "metadata": {},
   "source": [
    "**Analysis:** There is a general increase in the numbers of Berliners with a Bachelor qualification for both males and females. \n",
    "- In 2019, there is a higher number of females with Bachelor than in 2020."
   ]
  },
  {
   "cell_type": "markdown",
   "metadata": {},
   "source": [
    "### Select relavent dataset of interest (2)\n",
    "- 7 Anzahl von Schülerinnen und Schülern an allgemeinbildenden Schulen in Berlin 2000/01 bis 2022/23 (17)  (Quelle: Schulstatistik der Senatsverwaltung für Bildung, Jugend und Familie)  \n",
    "    (Translation) Number of pupils at general education schools in Berlin 2000/01 to 2022/23"
   ]
  },
  {
   "cell_type": "markdown",
   "metadata": {},
   "source": [
    "**Analysis Question 2:**  \n",
    "Does the trend of the percentage of foreign students in a school year align with the trend of the percentage of students with non-German native language?"
   ]
  },
  {
   "cell_type": "code",
   "execution_count": 8,
   "metadata": {},
   "outputs": [
    {
     "name": "stdout",
     "output_type": "stream",
     "text": [
      "  Schuljahr(4)  Deutsche Schülerinnen  Deutsche Schüler  \\\n",
      "0      2000/01                 159442            161811   \n",
      "1      2001/02                 153756            155877   \n",
      "2      2002/03                 149103            150739   \n",
      "3      2003/04                 145271            146806   \n",
      "4      2004/05                 141729            143212   \n",
      "\n",
      "   Ausländische Schülerinnen  Ausländische Schüler  \\\n",
      "0                      27164                 28965   \n",
      "1                      27029                 28951   \n",
      "2                      27189                 29084   \n",
      "3                      27195                 28876   \n",
      "4                      27047                 28670   \n",
      "\n",
      "   NDH (nichtdeutsche Herkunftssprache) (5)  \n",
      "0                                       NaN  \n",
      "1                                       NaN  \n",
      "2                                       NaN  \n",
      "3                                       NaN  \n",
      "4                                       NaN  \n"
     ]
    }
   ],
   "source": [
    "df = get_data(\"Tab7\")"
   ]
  },
  {
   "cell_type": "code",
   "execution_count": 9,
   "metadata": {},
   "outputs": [
    {
     "data": {
      "text/html": [
       "<div>\n",
       "<style scoped>\n",
       "    .dataframe tbody tr th:only-of-type {\n",
       "        vertical-align: middle;\n",
       "    }\n",
       "\n",
       "    .dataframe tbody tr th {\n",
       "        vertical-align: top;\n",
       "    }\n",
       "\n",
       "    .dataframe thead th {\n",
       "        text-align: right;\n",
       "    }\n",
       "</style>\n",
       "<table border=\"1\" class=\"dataframe\">\n",
       "  <thead>\n",
       "    <tr style=\"text-align: right;\">\n",
       "      <th></th>\n",
       "      <th>Schuljahr(4)</th>\n",
       "      <th>Deutsche Schülerinnen</th>\n",
       "      <th>Deutsche Schüler</th>\n",
       "      <th>Ausländische Schülerinnen</th>\n",
       "      <th>Ausländische Schüler</th>\n",
       "      <th>NDH (nichtdeutsche Herkunftssprache) (5)</th>\n",
       "      <th>Total Students</th>\n",
       "      <th>Deutsche Studenten</th>\n",
       "      <th>Ausländische Studenten</th>\n",
       "      <th>NDH Percentage</th>\n",
       "    </tr>\n",
       "  </thead>\n",
       "  <tbody>\n",
       "    <tr>\n",
       "      <th>5</th>\n",
       "      <td>2005/06</td>\n",
       "      <td>141315</td>\n",
       "      <td>143959</td>\n",
       "      <td>27379</td>\n",
       "      <td>28975</td>\n",
       "      <td>87857.0</td>\n",
       "      <td>341628</td>\n",
       "      <td>83.504280</td>\n",
       "      <td>16.495720</td>\n",
       "      <td>25.717154</td>\n",
       "    </tr>\n",
       "    <tr>\n",
       "      <th>6</th>\n",
       "      <td>2006/07</td>\n",
       "      <td>139077</td>\n",
       "      <td>141588</td>\n",
       "      <td>26363</td>\n",
       "      <td>27851</td>\n",
       "      <td>90444.0</td>\n",
       "      <td>334879</td>\n",
       "      <td>83.810869</td>\n",
       "      <td>16.189131</td>\n",
       "      <td>27.007964</td>\n",
       "    </tr>\n",
       "    <tr>\n",
       "      <th>7</th>\n",
       "      <td>2007/08</td>\n",
       "      <td>137164</td>\n",
       "      <td>139530</td>\n",
       "      <td>25164</td>\n",
       "      <td>26522</td>\n",
       "      <td>93630.0</td>\n",
       "      <td>328380</td>\n",
       "      <td>84.260308</td>\n",
       "      <td>15.739692</td>\n",
       "      <td>28.512699</td>\n",
       "    </tr>\n",
       "    <tr>\n",
       "      <th>8</th>\n",
       "      <td>2008/09</td>\n",
       "      <td>135757</td>\n",
       "      <td>138435</td>\n",
       "      <td>23878</td>\n",
       "      <td>25150</td>\n",
       "      <td>95316.0</td>\n",
       "      <td>323220</td>\n",
       "      <td>84.831384</td>\n",
       "      <td>15.168616</td>\n",
       "      <td>29.489512</td>\n",
       "    </tr>\n",
       "    <tr>\n",
       "      <th>9</th>\n",
       "      <td>2009/10</td>\n",
       "      <td>135160</td>\n",
       "      <td>138761</td>\n",
       "      <td>23052</td>\n",
       "      <td>23897</td>\n",
       "      <td>98816.0</td>\n",
       "      <td>320870</td>\n",
       "      <td>85.368218</td>\n",
       "      <td>14.631782</td>\n",
       "      <td>30.796273</td>\n",
       "    </tr>\n",
       "  </tbody>\n",
       "</table>\n",
       "</div>"
      ],
      "text/plain": [
       "  Schuljahr(4)  Deutsche Schülerinnen  Deutsche Schüler  \\\n",
       "5      2005/06                 141315            143959   \n",
       "6      2006/07                 139077            141588   \n",
       "7      2007/08                 137164            139530   \n",
       "8      2008/09                 135757            138435   \n",
       "9      2009/10                 135160            138761   \n",
       "\n",
       "   Ausländische Schülerinnen  Ausländische Schüler  \\\n",
       "5                      27379                 28975   \n",
       "6                      26363                 27851   \n",
       "7                      25164                 26522   \n",
       "8                      23878                 25150   \n",
       "9                      23052                 23897   \n",
       "\n",
       "   NDH (nichtdeutsche Herkunftssprache) (5)  Total Students  \\\n",
       "5                                   87857.0          341628   \n",
       "6                                   90444.0          334879   \n",
       "7                                   93630.0          328380   \n",
       "8                                   95316.0          323220   \n",
       "9                                   98816.0          320870   \n",
       "\n",
       "   Deutsche Studenten  Ausländische Studenten  NDH Percentage  \n",
       "5           83.504280               16.495720       25.717154  \n",
       "6           83.810869               16.189131       27.007964  \n",
       "7           84.260308               15.739692       28.512699  \n",
       "8           84.831384               15.168616       29.489512  \n",
       "9           85.368218               14.631782       30.796273  "
      ]
     },
     "execution_count": 9,
     "metadata": {},
     "output_type": "execute_result"
    }
   ],
   "source": [
    "# Step 1: Filter out rows where NDH is NaN\n",
    "df = df.loc[df['NDH (nichtdeutsche Herkunftssprache) (5)'].notna()]\n",
    "\n",
    "# Step 2: Calculate the total number of students for each year\n",
    "df['Total Students'] = df[['Deutsche Schülerinnen', 'Deutsche Schüler', \n",
    "                            'Ausländische Schülerinnen', 'Ausländische Schüler']].sum(axis=1)\n",
    "\n",
    "# Step 3: Calculate the percentage of German and foreign students (girls + boys)\n",
    "df['Deutsche Studenten'] = (df['Deutsche Schülerinnen'] + df['Deutsche Schüler']) / df['Total Students'] * 100\n",
    "df['Ausländische Studenten'] = (df['Ausländische Schülerinnen'] + df['Ausländische Schüler']) / df['Total Students'] * 100\n",
    "\n",
    "# Step 4: Calculate the percentage of NDH students relative to the total number of students\n",
    "df['NDH Percentage'] = df['NDH (nichtdeutsche Herkunftssprache) (5)'] / df['Total Students'] * 100\n",
    "\n",
    "df.head()"
   ]
  },
  {
   "cell_type": "code",
   "execution_count": 10,
   "metadata": {},
   "outputs": [
    {
     "data": {
      "text/html": [
       "\n",
       "<style>\n",
       "  #altair-viz-463b530d0dcc4731bc6e06d25b59f4c8.vega-embed {\n",
       "    width: 100%;\n",
       "    display: flex;\n",
       "  }\n",
       "\n",
       "  #altair-viz-463b530d0dcc4731bc6e06d25b59f4c8.vega-embed details,\n",
       "  #altair-viz-463b530d0dcc4731bc6e06d25b59f4c8.vega-embed details summary {\n",
       "    position: relative;\n",
       "  }\n",
       "</style>\n",
       "<div id=\"altair-viz-463b530d0dcc4731bc6e06d25b59f4c8\"></div>\n",
       "<script type=\"text/javascript\">\n",
       "  var VEGA_DEBUG = (typeof VEGA_DEBUG == \"undefined\") ? {} : VEGA_DEBUG;\n",
       "  (function(spec, embedOpt){\n",
       "    let outputDiv = document.currentScript.previousElementSibling;\n",
       "    if (outputDiv.id !== \"altair-viz-463b530d0dcc4731bc6e06d25b59f4c8\") {\n",
       "      outputDiv = document.getElementById(\"altair-viz-463b530d0dcc4731bc6e06d25b59f4c8\");\n",
       "    }\n",
       "    const paths = {\n",
       "      \"vega\": \"https://cdn.jsdelivr.net/npm/vega@5?noext\",\n",
       "      \"vega-lib\": \"https://cdn.jsdelivr.net/npm/vega-lib?noext\",\n",
       "      \"vega-lite\": \"https://cdn.jsdelivr.net/npm/vega-lite@5.20.1?noext\",\n",
       "      \"vega-embed\": \"https://cdn.jsdelivr.net/npm/vega-embed@6?noext\",\n",
       "    };\n",
       "\n",
       "    function maybeLoadScript(lib, version) {\n",
       "      var key = `${lib.replace(\"-\", \"\")}_version`;\n",
       "      return (VEGA_DEBUG[key] == version) ?\n",
       "        Promise.resolve(paths[lib]) :\n",
       "        new Promise(function(resolve, reject) {\n",
       "          var s = document.createElement('script');\n",
       "          document.getElementsByTagName(\"head\")[0].appendChild(s);\n",
       "          s.async = true;\n",
       "          s.onload = () => {\n",
       "            VEGA_DEBUG[key] = version;\n",
       "            return resolve(paths[lib]);\n",
       "          };\n",
       "          s.onerror = () => reject(`Error loading script: ${paths[lib]}`);\n",
       "          s.src = paths[lib];\n",
       "        });\n",
       "    }\n",
       "\n",
       "    function showError(err) {\n",
       "      outputDiv.innerHTML = `<div class=\"error\" style=\"color:red;\">${err}</div>`;\n",
       "      throw err;\n",
       "    }\n",
       "\n",
       "    function displayChart(vegaEmbed) {\n",
       "      vegaEmbed(outputDiv, spec, embedOpt)\n",
       "        .catch(err => showError(`Javascript Error: ${err.message}<br>This usually means there's a typo in your chart specification. See the javascript console for the full traceback.`));\n",
       "    }\n",
       "\n",
       "    if(typeof define === \"function\" && define.amd) {\n",
       "      requirejs.config({paths});\n",
       "      require([\"vega-embed\"], displayChart, err => showError(`Error loading script: ${err.message}`));\n",
       "    } else {\n",
       "      maybeLoadScript(\"vega\", \"5\")\n",
       "        .then(() => maybeLoadScript(\"vega-lite\", \"5.20.1\"))\n",
       "        .then(() => maybeLoadScript(\"vega-embed\", \"6\"))\n",
       "        .catch(showError)\n",
       "        .then(() => displayChart(vegaEmbed));\n",
       "    }\n",
       "  })({\"config\": {\"view\": {\"continuousWidth\": 300, \"continuousHeight\": 300}}, \"data\": {\"name\": \"data-473e041b59a7b6dd5ccb86630b545ba2\"}, \"mark\": {\"type\": \"bar\"}, \"encoding\": {\"color\": {\"value\": \"steelblue\"}, \"tooltip\": [{\"field\": \"Schuljahr(4)\", \"type\": \"nominal\"}, {\"field\": \"Ausl\\u00e4ndische Studenten\", \"type\": \"quantitative\"}], \"x\": {\"field\": \"Schuljahr(4)\", \"type\": \"ordinal\"}, \"y\": {\"field\": \"Ausl\\u00e4ndische Studenten\", \"type\": \"quantitative\"}}, \"title\": \"Percentage of Foreign Students in a School Year\", \"$schema\": \"https://vega.github.io/schema/vega-lite/v5.20.1.json\", \"datasets\": {\"data-473e041b59a7b6dd5ccb86630b545ba2\": [{\"Schuljahr(4)\": \"2005/06\", \"Deutsche Sch\\u00fclerinnen\": 141315, \"Deutsche Sch\\u00fcler\": 143959, \"Ausl\\u00e4ndische Sch\\u00fclerinnen\": 27379, \"Ausl\\u00e4ndische Sch\\u00fcler\": 28975, \"NDH (nichtdeutsche Herkunftssprache) (5)\": 87857.0, \"Total Students\": 341628, \"Deutsche Studenten\": 83.50427950870537, \"Ausl\\u00e4ndische Studenten\": 16.495720491294623, \"NDH Percentage\": 25.717154331612164}, {\"Schuljahr(4)\": \"2006/07\", \"Deutsche Sch\\u00fclerinnen\": 139077, \"Deutsche Sch\\u00fcler\": 141588, \"Ausl\\u00e4ndische Sch\\u00fclerinnen\": 26363, \"Ausl\\u00e4ndische Sch\\u00fcler\": 27851, \"NDH (nichtdeutsche Herkunftssprache) (5)\": 90444.0, \"Total Students\": 334879, \"Deutsche Studenten\": 83.81086900044494, \"Ausl\\u00e4ndische Studenten\": 16.18913099955506, \"NDH Percentage\": 27.007964070604608}, {\"Schuljahr(4)\": \"2007/08\", \"Deutsche Sch\\u00fclerinnen\": 137164, \"Deutsche Sch\\u00fcler\": 139530, \"Ausl\\u00e4ndische Sch\\u00fclerinnen\": 25164, \"Ausl\\u00e4ndische Sch\\u00fcler\": 26522, \"NDH (nichtdeutsche Herkunftssprache) (5)\": 93630.0, \"Total Students\": 328380, \"Deutsche Studenten\": 84.26030817954808, \"Ausl\\u00e4ndische Studenten\": 15.739691820451915, \"NDH Percentage\": 28.512698702722457}, {\"Schuljahr(4)\": \"2008/09\", \"Deutsche Sch\\u00fclerinnen\": 135757, \"Deutsche Sch\\u00fcler\": 138435, \"Ausl\\u00e4ndische Sch\\u00fclerinnen\": 23878, \"Ausl\\u00e4ndische Sch\\u00fcler\": 25150, \"NDH (nichtdeutsche Herkunftssprache) (5)\": 95316.0, \"Total Students\": 323220, \"Deutsche Studenten\": 84.83138419652249, \"Ausl\\u00e4ndische Studenten\": 15.16861580347751, \"NDH Percentage\": 29.4895117876369}, {\"Schuljahr(4)\": \"2009/10\", \"Deutsche Sch\\u00fclerinnen\": 135160, \"Deutsche Sch\\u00fcler\": 138761, \"Ausl\\u00e4ndische Sch\\u00fclerinnen\": 23052, \"Ausl\\u00e4ndische Sch\\u00fcler\": 23897, \"NDH (nichtdeutsche Herkunftssprache) (5)\": 98816.0, \"Total Students\": 320870, \"Deutsche Studenten\": 85.36821765824165, \"Ausl\\u00e4ndische Studenten\": 14.631782341758345, \"NDH Percentage\": 30.796272633776915}, {\"Schuljahr(4)\": \"2010/11\", \"Deutsche Sch\\u00fclerinnen\": 136289, \"Deutsche Sch\\u00fcler\": 139578, \"Ausl\\u00e4ndische Sch\\u00fclerinnen\": 21672, \"Ausl\\u00e4ndische Sch\\u00fcler\": 22519, \"NDH (nichtdeutsche Herkunftssprache) (5)\": 101406.0, \"Total Students\": 320058, \"Deutsche Studenten\": 86.19281505227178, \"Ausl\\u00e4ndische Studenten\": 13.807184947728224, \"NDH Percentage\": 31.68363234163808}, {\"Schuljahr(4)\": \"2011/12\", \"Deutsche Sch\\u00fclerinnen\": 137954, \"Deutsche Sch\\u00fcler\": 141271, \"Ausl\\u00e4ndische Sch\\u00fclerinnen\": 20729, \"Ausl\\u00e4ndische Sch\\u00fcler\": 21636, \"NDH (nichtdeutsche Herkunftssprache) (5)\": 103594.0, \"Total Students\": 321590, \"Deutsche Studenten\": 86.82639385553034, \"Ausl\\u00e4ndische Studenten\": 13.173606144469666, \"NDH Percentage\": 32.21306632668926}, {\"Schuljahr(4)\": \"2012/13\", \"Deutsche Sch\\u00fclerinnen\": 137033, \"Deutsche Sch\\u00fcler\": 140980, \"Ausl\\u00e4ndische Sch\\u00fclerinnen\": 20181, \"Ausl\\u00e4ndische Sch\\u00fcler\": 21093, \"NDH (nichtdeutsche Herkunftssprache) (5)\": 106598.0, \"Total Students\": 319287, \"Deutsche Studenten\": 87.07307218897104, \"Ausl\\u00e4ndische Studenten\": 12.926927811028948, \"NDH Percentage\": 33.38626376896022}, {\"Schuljahr(4)\": \"2013/14\", \"Deutsche Sch\\u00fclerinnen\": 139728, \"Deutsche Sch\\u00fcler\": 143679, \"Ausl\\u00e4ndische Sch\\u00fclerinnen\": 19840, \"Ausl\\u00e4ndische Sch\\u00fcler\": 20778, \"NDH (nichtdeutsche Herkunftssprache) (5)\": 109990.0, \"Total Students\": 324025, \"Deutsche Studenten\": 87.4645474886197, \"Ausl\\u00e4ndische Studenten\": 12.535452511380294, \"NDH Percentage\": 33.944911658051076}, {\"Schuljahr(4)\": \"2014/15\", \"Deutsche Sch\\u00fclerinnen\": 141713, \"Deutsche Sch\\u00fcler\": 146122, \"Ausl\\u00e4ndische Sch\\u00fclerinnen\": 20676, \"Ausl\\u00e4ndische Sch\\u00fcler\": 21721, \"NDH (nichtdeutsche Herkunftssprache) (5)\": 116087.0, \"Total Students\": 330232, \"Deutsche Studenten\": 87.16145013202839, \"Ausl\\u00e4ndische Studenten\": 12.838549867971608, \"NDH Percentage\": 35.1531650476029}, {\"Schuljahr(4)\": \"2015/16\", \"Deutsche Sch\\u00fclerinnen\": 143716, \"Deutsche Sch\\u00fcler\": 148255, \"Ausl\\u00e4ndische Sch\\u00fclerinnen\": 21322, \"Ausl\\u00e4ndische Sch\\u00fcler\": 22633, \"NDH (nichtdeutsche Herkunftssprache) (5)\": 120771.0, \"Total Students\": 335926, \"Deutsche Studenten\": 86.91527300655501, \"Ausl\\u00e4ndische Studenten\": 13.084726993444985, \"NDH Percentage\": 35.95166792686484}, {\"Schuljahr(4)\": \"2016/17\", \"Deutsche Sch\\u00fclerinnen\": 145108, \"Deutsche Sch\\u00fcler\": 149506, \"Ausl\\u00e4ndische Sch\\u00fclerinnen\": 24348, \"Ausl\\u00e4ndische Sch\\u00fcler\": 27256, \"NDH (nichtdeutsche Herkunftssprache) (5)\": 130826.0, \"Total Students\": 346218, \"Deutsche Studenten\": 85.09494018219735, \"Ausl\\u00e4ndische Studenten\": 14.905059817802657, \"NDH Percentage\": 37.78717455476029}, {\"Schuljahr(4)\": \"2017/18\", \"Deutsche Sch\\u00fclerinnen\": 146297, \"Deutsche Sch\\u00fcler\": 151081, \"Ausl\\u00e4ndische Sch\\u00fclerinnen\": 25635, \"Ausl\\u00e4ndische Sch\\u00fcler\": 28236, \"NDH (nichtdeutsche Herkunftssprache) (5)\": 135939.0, \"Total Students\": 351249, \"Deutsche Studenten\": 84.66301683421162, \"Ausl\\u00e4ndische Studenten\": 15.336983165788373, \"NDH Percentage\": 38.701604844426605}, {\"Schuljahr(4)\": \"2018/19\", \"Deutsche Sch\\u00fclerinnen\": 147945, \"Deutsche Sch\\u00fcler\": 152767, \"Ausl\\u00e4ndische Sch\\u00fclerinnen\": 26884, \"Ausl\\u00e4ndische Sch\\u00fcler\": 29367, \"NDH (nichtdeutsche Herkunftssprache) (5)\": 138881.0, \"Total Students\": 356963, \"Deutsche Studenten\": 84.24178416250425, \"Ausl\\u00e4ndische Studenten\": 15.758215837495761, \"NDH Percentage\": 38.90627319918311}, {\"Schuljahr(4)\": \"2019/20\", \"Deutsche Sch\\u00fclerinnen\": 149170, \"Deutsche Sch\\u00fcler\": 154286, \"Ausl\\u00e4ndische Sch\\u00fclerinnen\": 28647, \"Ausl\\u00e4ndische Sch\\u00fcler\": 31052, \"NDH (nichtdeutsche Herkunftssprache) (5)\": 141167.0, \"Total Students\": 363155, \"Deutsche Studenten\": 83.56101389213973, \"Ausl\\u00e4ndische Studenten\": 16.43898610786028, \"NDH Percentage\": 38.87238231609093}, {\"Schuljahr(4)\": \"2020/21\", \"Deutsche Sch\\u00fclerinnen\": 151125, \"Deutsche Sch\\u00fcler\": 155977, \"Ausl\\u00e4ndische Sch\\u00fclerinnen\": 30252, \"Ausl\\u00e4ndische Sch\\u00fcler\": 32487, \"NDH (nichtdeutsche Herkunftssprache) (5)\": 145480.0, \"Total Students\": 369841, \"Deutsche Studenten\": 83.03622367449796, \"Ausl\\u00e4ndische Studenten\": 16.96377632550204, \"NDH Percentage\": 39.335822691372776}, {\"Schuljahr(4)\": \"2021/22\", \"Deutsche Sch\\u00fclerinnen\": 153165, \"Deutsche Sch\\u00fcler\": 158129, \"Ausl\\u00e4ndische Sch\\u00fclerinnen\": 31480, \"Ausl\\u00e4ndische Sch\\u00fcler\": 33704, \"NDH (nichtdeutsche Herkunftssprache) (5)\": 148019.0, \"Total Students\": 376478, \"Deutsche Studenten\": 82.68584087250782, \"Ausl\\u00e4ndische Studenten\": 17.314159127492175, \"NDH Percentage\": 39.316772826034985}, {\"Schuljahr(4)\": \"2022/23\", \"Deutsche Sch\\u00fclerinnen\": 154297, \"Deutsche Sch\\u00fcler\": 159400, \"Ausl\\u00e4ndische Sch\\u00fclerinnen\": 36354, \"Ausl\\u00e4ndische Sch\\u00fcler\": 38576, \"NDH (nichtdeutsche Herkunftssprache) (5)\": 156990.0, \"Total Students\": 388627, \"Deutsche Studenten\": 80.71930154106637, \"Ausl\\u00e4ndische Studenten\": 19.28069845893363, \"NDH Percentage\": 40.396061004510756}]}}, {\"mode\": \"vega-lite\"});\n",
       "</script>"
      ],
      "text/plain": [
       "alt.Chart(...)"
      ]
     },
     "metadata": {},
     "output_type": "display_data"
    }
   ],
   "source": [
    "chart1 = alt.Chart(df).mark_bar().encode(\n",
    "    x='Schuljahr(4):O',\n",
    "    y='Ausländische Studenten:Q',\n",
    "    color=alt.value('steelblue'),\n",
    "    tooltip=['Schuljahr(4)', 'Ausländische Studenten']\n",
    ").properties(\n",
    "    title='Percentage of Foreign Students in a School Year'\n",
    ")\n",
    "chart1.show()\n"
   ]
  },
  {
   "cell_type": "code",
   "execution_count": 12,
   "metadata": {},
   "outputs": [
    {
     "data": {
      "text/html": [
       "\n",
       "<style>\n",
       "  #altair-viz-00a53a9f0b144aad8a2aff55cdc3bfde.vega-embed {\n",
       "    width: 100%;\n",
       "    display: flex;\n",
       "  }\n",
       "\n",
       "  #altair-viz-00a53a9f0b144aad8a2aff55cdc3bfde.vega-embed details,\n",
       "  #altair-viz-00a53a9f0b144aad8a2aff55cdc3bfde.vega-embed details summary {\n",
       "    position: relative;\n",
       "  }\n",
       "</style>\n",
       "<div id=\"altair-viz-00a53a9f0b144aad8a2aff55cdc3bfde\"></div>\n",
       "<script type=\"text/javascript\">\n",
       "  var VEGA_DEBUG = (typeof VEGA_DEBUG == \"undefined\") ? {} : VEGA_DEBUG;\n",
       "  (function(spec, embedOpt){\n",
       "    let outputDiv = document.currentScript.previousElementSibling;\n",
       "    if (outputDiv.id !== \"altair-viz-00a53a9f0b144aad8a2aff55cdc3bfde\") {\n",
       "      outputDiv = document.getElementById(\"altair-viz-00a53a9f0b144aad8a2aff55cdc3bfde\");\n",
       "    }\n",
       "    const paths = {\n",
       "      \"vega\": \"https://cdn.jsdelivr.net/npm/vega@5?noext\",\n",
       "      \"vega-lib\": \"https://cdn.jsdelivr.net/npm/vega-lib?noext\",\n",
       "      \"vega-lite\": \"https://cdn.jsdelivr.net/npm/vega-lite@5.20.1?noext\",\n",
       "      \"vega-embed\": \"https://cdn.jsdelivr.net/npm/vega-embed@6?noext\",\n",
       "    };\n",
       "\n",
       "    function maybeLoadScript(lib, version) {\n",
       "      var key = `${lib.replace(\"-\", \"\")}_version`;\n",
       "      return (VEGA_DEBUG[key] == version) ?\n",
       "        Promise.resolve(paths[lib]) :\n",
       "        new Promise(function(resolve, reject) {\n",
       "          var s = document.createElement('script');\n",
       "          document.getElementsByTagName(\"head\")[0].appendChild(s);\n",
       "          s.async = true;\n",
       "          s.onload = () => {\n",
       "            VEGA_DEBUG[key] = version;\n",
       "            return resolve(paths[lib]);\n",
       "          };\n",
       "          s.onerror = () => reject(`Error loading script: ${paths[lib]}`);\n",
       "          s.src = paths[lib];\n",
       "        });\n",
       "    }\n",
       "\n",
       "    function showError(err) {\n",
       "      outputDiv.innerHTML = `<div class=\"error\" style=\"color:red;\">${err}</div>`;\n",
       "      throw err;\n",
       "    }\n",
       "\n",
       "    function displayChart(vegaEmbed) {\n",
       "      vegaEmbed(outputDiv, spec, embedOpt)\n",
       "        .catch(err => showError(`Javascript Error: ${err.message}<br>This usually means there's a typo in your chart specification. See the javascript console for the full traceback.`));\n",
       "    }\n",
       "\n",
       "    if(typeof define === \"function\" && define.amd) {\n",
       "      requirejs.config({paths});\n",
       "      require([\"vega-embed\"], displayChart, err => showError(`Error loading script: ${err.message}`));\n",
       "    } else {\n",
       "      maybeLoadScript(\"vega\", \"5\")\n",
       "        .then(() => maybeLoadScript(\"vega-lite\", \"5.20.1\"))\n",
       "        .then(() => maybeLoadScript(\"vega-embed\", \"6\"))\n",
       "        .catch(showError)\n",
       "        .then(() => displayChart(vegaEmbed));\n",
       "    }\n",
       "  })({\"config\": {\"view\": {\"continuousWidth\": 300, \"continuousHeight\": 300}}, \"data\": {\"name\": \"data-473e041b59a7b6dd5ccb86630b545ba2\"}, \"mark\": {\"type\": \"bar\"}, \"encoding\": {\"color\": {\"value\": \"orange\"}, \"tooltip\": [{\"field\": \"Schuljahr(4)\", \"type\": \"nominal\"}, {\"field\": \"NDH Percentage\", \"type\": \"quantitative\"}], \"x\": {\"field\": \"Schuljahr(4)\", \"type\": \"ordinal\"}, \"y\": {\"field\": \"NDH Percentage\", \"type\": \"quantitative\"}}, \"title\": \"Percentage of Students with non-German as native language in a school year\", \"$schema\": \"https://vega.github.io/schema/vega-lite/v5.20.1.json\", \"datasets\": {\"data-473e041b59a7b6dd5ccb86630b545ba2\": [{\"Schuljahr(4)\": \"2005/06\", \"Deutsche Sch\\u00fclerinnen\": 141315, \"Deutsche Sch\\u00fcler\": 143959, \"Ausl\\u00e4ndische Sch\\u00fclerinnen\": 27379, \"Ausl\\u00e4ndische Sch\\u00fcler\": 28975, \"NDH (nichtdeutsche Herkunftssprache) (5)\": 87857.0, \"Total Students\": 341628, \"Deutsche Studenten\": 83.50427950870537, \"Ausl\\u00e4ndische Studenten\": 16.495720491294623, \"NDH Percentage\": 25.717154331612164}, {\"Schuljahr(4)\": \"2006/07\", \"Deutsche Sch\\u00fclerinnen\": 139077, \"Deutsche Sch\\u00fcler\": 141588, \"Ausl\\u00e4ndische Sch\\u00fclerinnen\": 26363, \"Ausl\\u00e4ndische Sch\\u00fcler\": 27851, \"NDH (nichtdeutsche Herkunftssprache) (5)\": 90444.0, \"Total Students\": 334879, \"Deutsche Studenten\": 83.81086900044494, \"Ausl\\u00e4ndische Studenten\": 16.18913099955506, \"NDH Percentage\": 27.007964070604608}, {\"Schuljahr(4)\": \"2007/08\", \"Deutsche Sch\\u00fclerinnen\": 137164, \"Deutsche Sch\\u00fcler\": 139530, \"Ausl\\u00e4ndische Sch\\u00fclerinnen\": 25164, \"Ausl\\u00e4ndische Sch\\u00fcler\": 26522, \"NDH (nichtdeutsche Herkunftssprache) (5)\": 93630.0, \"Total Students\": 328380, \"Deutsche Studenten\": 84.26030817954808, \"Ausl\\u00e4ndische Studenten\": 15.739691820451915, \"NDH Percentage\": 28.512698702722457}, {\"Schuljahr(4)\": \"2008/09\", \"Deutsche Sch\\u00fclerinnen\": 135757, \"Deutsche Sch\\u00fcler\": 138435, \"Ausl\\u00e4ndische Sch\\u00fclerinnen\": 23878, \"Ausl\\u00e4ndische Sch\\u00fcler\": 25150, \"NDH (nichtdeutsche Herkunftssprache) (5)\": 95316.0, \"Total Students\": 323220, \"Deutsche Studenten\": 84.83138419652249, \"Ausl\\u00e4ndische Studenten\": 15.16861580347751, \"NDH Percentage\": 29.4895117876369}, {\"Schuljahr(4)\": \"2009/10\", \"Deutsche Sch\\u00fclerinnen\": 135160, \"Deutsche Sch\\u00fcler\": 138761, \"Ausl\\u00e4ndische Sch\\u00fclerinnen\": 23052, \"Ausl\\u00e4ndische Sch\\u00fcler\": 23897, \"NDH (nichtdeutsche Herkunftssprache) (5)\": 98816.0, \"Total Students\": 320870, \"Deutsche Studenten\": 85.36821765824165, \"Ausl\\u00e4ndische Studenten\": 14.631782341758345, \"NDH Percentage\": 30.796272633776915}, {\"Schuljahr(4)\": \"2010/11\", \"Deutsche Sch\\u00fclerinnen\": 136289, \"Deutsche Sch\\u00fcler\": 139578, \"Ausl\\u00e4ndische Sch\\u00fclerinnen\": 21672, \"Ausl\\u00e4ndische Sch\\u00fcler\": 22519, \"NDH (nichtdeutsche Herkunftssprache) (5)\": 101406.0, \"Total Students\": 320058, \"Deutsche Studenten\": 86.19281505227178, \"Ausl\\u00e4ndische Studenten\": 13.807184947728224, \"NDH Percentage\": 31.68363234163808}, {\"Schuljahr(4)\": \"2011/12\", \"Deutsche Sch\\u00fclerinnen\": 137954, \"Deutsche Sch\\u00fcler\": 141271, \"Ausl\\u00e4ndische Sch\\u00fclerinnen\": 20729, \"Ausl\\u00e4ndische Sch\\u00fcler\": 21636, \"NDH (nichtdeutsche Herkunftssprache) (5)\": 103594.0, \"Total Students\": 321590, \"Deutsche Studenten\": 86.82639385553034, \"Ausl\\u00e4ndische Studenten\": 13.173606144469666, \"NDH Percentage\": 32.21306632668926}, {\"Schuljahr(4)\": \"2012/13\", \"Deutsche Sch\\u00fclerinnen\": 137033, \"Deutsche Sch\\u00fcler\": 140980, \"Ausl\\u00e4ndische Sch\\u00fclerinnen\": 20181, \"Ausl\\u00e4ndische Sch\\u00fcler\": 21093, \"NDH (nichtdeutsche Herkunftssprache) (5)\": 106598.0, \"Total Students\": 319287, \"Deutsche Studenten\": 87.07307218897104, \"Ausl\\u00e4ndische Studenten\": 12.926927811028948, \"NDH Percentage\": 33.38626376896022}, {\"Schuljahr(4)\": \"2013/14\", \"Deutsche Sch\\u00fclerinnen\": 139728, \"Deutsche Sch\\u00fcler\": 143679, \"Ausl\\u00e4ndische Sch\\u00fclerinnen\": 19840, \"Ausl\\u00e4ndische Sch\\u00fcler\": 20778, \"NDH (nichtdeutsche Herkunftssprache) (5)\": 109990.0, \"Total Students\": 324025, \"Deutsche Studenten\": 87.4645474886197, \"Ausl\\u00e4ndische Studenten\": 12.535452511380294, \"NDH Percentage\": 33.944911658051076}, {\"Schuljahr(4)\": \"2014/15\", \"Deutsche Sch\\u00fclerinnen\": 141713, \"Deutsche Sch\\u00fcler\": 146122, \"Ausl\\u00e4ndische Sch\\u00fclerinnen\": 20676, \"Ausl\\u00e4ndische Sch\\u00fcler\": 21721, \"NDH (nichtdeutsche Herkunftssprache) (5)\": 116087.0, \"Total Students\": 330232, \"Deutsche Studenten\": 87.16145013202839, \"Ausl\\u00e4ndische Studenten\": 12.838549867971608, \"NDH Percentage\": 35.1531650476029}, {\"Schuljahr(4)\": \"2015/16\", \"Deutsche Sch\\u00fclerinnen\": 143716, \"Deutsche Sch\\u00fcler\": 148255, \"Ausl\\u00e4ndische Sch\\u00fclerinnen\": 21322, \"Ausl\\u00e4ndische Sch\\u00fcler\": 22633, \"NDH (nichtdeutsche Herkunftssprache) (5)\": 120771.0, \"Total Students\": 335926, \"Deutsche Studenten\": 86.91527300655501, \"Ausl\\u00e4ndische Studenten\": 13.084726993444985, \"NDH Percentage\": 35.95166792686484}, {\"Schuljahr(4)\": \"2016/17\", \"Deutsche Sch\\u00fclerinnen\": 145108, \"Deutsche Sch\\u00fcler\": 149506, \"Ausl\\u00e4ndische Sch\\u00fclerinnen\": 24348, \"Ausl\\u00e4ndische Sch\\u00fcler\": 27256, \"NDH (nichtdeutsche Herkunftssprache) (5)\": 130826.0, \"Total Students\": 346218, \"Deutsche Studenten\": 85.09494018219735, \"Ausl\\u00e4ndische Studenten\": 14.905059817802657, \"NDH Percentage\": 37.78717455476029}, {\"Schuljahr(4)\": \"2017/18\", \"Deutsche Sch\\u00fclerinnen\": 146297, \"Deutsche Sch\\u00fcler\": 151081, \"Ausl\\u00e4ndische Sch\\u00fclerinnen\": 25635, \"Ausl\\u00e4ndische Sch\\u00fcler\": 28236, \"NDH (nichtdeutsche Herkunftssprache) (5)\": 135939.0, \"Total Students\": 351249, \"Deutsche Studenten\": 84.66301683421162, \"Ausl\\u00e4ndische Studenten\": 15.336983165788373, \"NDH Percentage\": 38.701604844426605}, {\"Schuljahr(4)\": \"2018/19\", \"Deutsche Sch\\u00fclerinnen\": 147945, \"Deutsche Sch\\u00fcler\": 152767, \"Ausl\\u00e4ndische Sch\\u00fclerinnen\": 26884, \"Ausl\\u00e4ndische Sch\\u00fcler\": 29367, \"NDH (nichtdeutsche Herkunftssprache) (5)\": 138881.0, \"Total Students\": 356963, \"Deutsche Studenten\": 84.24178416250425, \"Ausl\\u00e4ndische Studenten\": 15.758215837495761, \"NDH Percentage\": 38.90627319918311}, {\"Schuljahr(4)\": \"2019/20\", \"Deutsche Sch\\u00fclerinnen\": 149170, \"Deutsche Sch\\u00fcler\": 154286, \"Ausl\\u00e4ndische Sch\\u00fclerinnen\": 28647, \"Ausl\\u00e4ndische Sch\\u00fcler\": 31052, \"NDH (nichtdeutsche Herkunftssprache) (5)\": 141167.0, \"Total Students\": 363155, \"Deutsche Studenten\": 83.56101389213973, \"Ausl\\u00e4ndische Studenten\": 16.43898610786028, \"NDH Percentage\": 38.87238231609093}, {\"Schuljahr(4)\": \"2020/21\", \"Deutsche Sch\\u00fclerinnen\": 151125, \"Deutsche Sch\\u00fcler\": 155977, \"Ausl\\u00e4ndische Sch\\u00fclerinnen\": 30252, \"Ausl\\u00e4ndische Sch\\u00fcler\": 32487, \"NDH (nichtdeutsche Herkunftssprache) (5)\": 145480.0, \"Total Students\": 369841, \"Deutsche Studenten\": 83.03622367449796, \"Ausl\\u00e4ndische Studenten\": 16.96377632550204, \"NDH Percentage\": 39.335822691372776}, {\"Schuljahr(4)\": \"2021/22\", \"Deutsche Sch\\u00fclerinnen\": 153165, \"Deutsche Sch\\u00fcler\": 158129, \"Ausl\\u00e4ndische Sch\\u00fclerinnen\": 31480, \"Ausl\\u00e4ndische Sch\\u00fcler\": 33704, \"NDH (nichtdeutsche Herkunftssprache) (5)\": 148019.0, \"Total Students\": 376478, \"Deutsche Studenten\": 82.68584087250782, \"Ausl\\u00e4ndische Studenten\": 17.314159127492175, \"NDH Percentage\": 39.316772826034985}, {\"Schuljahr(4)\": \"2022/23\", \"Deutsche Sch\\u00fclerinnen\": 154297, \"Deutsche Sch\\u00fcler\": 159400, \"Ausl\\u00e4ndische Sch\\u00fclerinnen\": 36354, \"Ausl\\u00e4ndische Sch\\u00fcler\": 38576, \"NDH (nichtdeutsche Herkunftssprache) (5)\": 156990.0, \"Total Students\": 388627, \"Deutsche Studenten\": 80.71930154106637, \"Ausl\\u00e4ndische Studenten\": 19.28069845893363, \"NDH Percentage\": 40.396061004510756}]}}, {\"mode\": \"vega-lite\"});\n",
       "</script>"
      ],
      "text/plain": [
       "alt.Chart(...)"
      ]
     },
     "metadata": {},
     "output_type": "display_data"
    }
   ],
   "source": [
    "chart2 = alt.Chart(df).mark_bar().encode(\n",
    "    x='Schuljahr(4):O',\n",
    "    y='NDH Percentage:Q',\n",
    "    color=alt.value('orange'),\n",
    "    tooltip=['Schuljahr(4)', 'NDH Percentage']\n",
    ").properties(\n",
    "    title='Percentage of Students with non-German as native language in a school year'\n",
    ")\n",
    "chart2.show()"
   ]
  },
  {
   "cell_type": "markdown",
   "metadata": {},
   "source": [
    "**Analysis:** The trend of the percentage of foreign students in a school year does not align with the trend of the percentage of students with a non-German native language.  \n",
    "- The percentage of foreign students show a bimodial distribution from School Year 2005/06 to 2022/23.\n",
    "- The percentage of students with non-German native language shows an increasing trend from from School Year 2005/06 to 2022/23."
   ]
  }
 ],
 "metadata": {
  "kernelspec": {
   "display_name": "Python 3",
   "language": "python",
   "name": "python3"
  },
  "language_info": {
   "codemirror_mode": {
    "name": "ipython",
    "version": 3
   },
   "file_extension": ".py",
   "mimetype": "text/x-python",
   "name": "python",
   "nbconvert_exporter": "python",
   "pygments_lexer": "ipython3",
   "version": "3.12.4"
  }
 },
 "nbformat": 4,
 "nbformat_minor": 2
}
